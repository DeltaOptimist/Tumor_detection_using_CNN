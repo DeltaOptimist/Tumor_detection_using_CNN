{
  "nbformat": 4,
  "nbformat_minor": 5,
  "metadata": {
    "kernelspec": {
      "display_name": "Python 3",
      "language": "python",
      "name": "python3"
    },
    "language_info": {
      "codemirror_mode": {
        "name": "ipython",
        "version": 3
      },
      "file_extension": ".py",
      "mimetype": "text/x-python",
      "name": "python",
      "nbconvert_exporter": "python",
      "pygments_lexer": "ipython3",
      "version": "3.7.9"
    },
    "papermill": {
      "default_parameters": {},
      "duration": 182.296261,
      "end_time": "2021-04-07T20:06:41.788123",
      "environment_variables": {},
      "exception": null,
      "input_path": "__notebook__.ipynb",
      "output_path": "__notebook__.ipynb",
      "parameters": {},
      "start_time": "2021-04-07T20:03:39.491862",
      "version": "2.3.2"
    },
    "colab": {
      "name": "Tumor_detection_using_cnn_usecase.ipynb",
      "provenance": [],
      "toc_visible": true
    }
  },
  "cells": [
    {
      "cell_type": "markdown",
      "metadata": {
        "id": "iv7H_0q-OX0M"
      },
      "source": [
        "#Aim: Implementation of disease(Tumor) detection using CNN"
      ],
      "id": "iv7H_0q-OX0M"
    },
    {
      "cell_type": "code",
      "metadata": {
        "_cell_guid": "b1076dfc-b9ad-4769-8c92-a6c4dae69d19",
        "_uuid": "8f2839f25d086af736a60e9eeb907d3b93b6e0e5",
        "execution": {
          "iopub.execute_input": "2021-04-07T20:03:46.175598Z",
          "iopub.status.busy": "2021-04-07T20:03:46.174340Z",
          "iopub.status.idle": "2021-04-07T20:03:46.409036Z",
          "shell.execute_reply": "2021-04-07T20:03:46.409888Z"
        },
        "papermill": {
          "duration": 0.252909,
          "end_time": "2021-04-07T20:03:46.410297",
          "exception": false,
          "start_time": "2021-04-07T20:03:46.157388",
          "status": "completed"
        },
        "tags": [],
        "colab": {
          "base_uri": "https://localhost:8080/"
        },
        "id": "ancient-logan",
        "outputId": "0c460ecc-33ef-42b4-d0d1-bbc8f30c9c08"
      },
      "source": [
        "import numpy as np \n",
        "import pandas as pd \n",
        "\n",
        "import os\n",
        "for dirname, _, filenames in os.walk('/content/brain-mri-images-for-brain-tumor-detection'):\n",
        "    for filename in filenames:\n",
        "        print(os.path.join(dirname, filename))"
      ],
      "id": "ancient-logan",
      "execution_count": 1,
      "outputs": [
        {
          "output_type": "stream",
          "text": [
            "/content/brain-mri-images-for-brain-tumor-detection/yes/Y147.JPG\n",
            "/content/brain-mri-images-for-brain-tumor-detection/yes/Y115.JPG\n",
            "/content/brain-mri-images-for-brain-tumor-detection/yes/Y39.jpg\n",
            "/content/brain-mri-images-for-brain-tumor-detection/yes/Y55.jpg\n",
            "/content/brain-mri-images-for-brain-tumor-detection/yes/Y67.JPG\n",
            "/content/brain-mri-images-for-brain-tumor-detection/yes/Y86.JPG\n",
            "/content/brain-mri-images-for-brain-tumor-detection/yes/Y8.jpg\n",
            "/content/brain-mri-images-for-brain-tumor-detection/yes/Y52.jpg\n",
            "/content/brain-mri-images-for-brain-tumor-detection/yes/Y157.JPG\n",
            "/content/brain-mri-images-for-brain-tumor-detection/yes/Y92.jpg\n",
            "/content/brain-mri-images-for-brain-tumor-detection/yes/Y153.jpg\n",
            "/content/brain-mri-images-for-brain-tumor-detection/yes/Y2.jpg\n",
            "/content/brain-mri-images-for-brain-tumor-detection/yes/Y112.JPG\n",
            "/content/brain-mri-images-for-brain-tumor-detection/yes/Y117.JPG\n",
            "/content/brain-mri-images-for-brain-tumor-detection/yes/Y250.jpg\n",
            "/content/brain-mri-images-for-brain-tumor-detection/yes/Y44.JPG\n",
            "/content/brain-mri-images-for-brain-tumor-detection/yes/Y13.jpg\n",
            "/content/brain-mri-images-for-brain-tumor-detection/yes/Y28.jpg\n",
            "/content/brain-mri-images-for-brain-tumor-detection/yes/Y184.JPG\n",
            "/content/brain-mri-images-for-brain-tumor-detection/yes/Y148.JPG\n",
            "/content/brain-mri-images-for-brain-tumor-detection/yes/Y40.JPG\n",
            "/content/brain-mri-images-for-brain-tumor-detection/yes/Y168.jpg\n",
            "/content/brain-mri-images-for-brain-tumor-detection/yes/Y41.jpg\n",
            "/content/brain-mri-images-for-brain-tumor-detection/yes/Y107.jpg\n",
            "/content/brain-mri-images-for-brain-tumor-detection/yes/Y249.JPG\n",
            "/content/brain-mri-images-for-brain-tumor-detection/yes/Y12.jpg\n",
            "/content/brain-mri-images-for-brain-tumor-detection/yes/Y20.jpg\n",
            "/content/brain-mri-images-for-brain-tumor-detection/yes/Y192.JPG\n",
            "/content/brain-mri-images-for-brain-tumor-detection/yes/Y14.jpg\n",
            "/content/brain-mri-images-for-brain-tumor-detection/yes/Y146.JPG\n",
            "/content/brain-mri-images-for-brain-tumor-detection/yes/Y11.jpg\n",
            "/content/brain-mri-images-for-brain-tumor-detection/yes/Y91.jpg\n",
            "/content/brain-mri-images-for-brain-tumor-detection/yes/Y71.JPG\n",
            "/content/brain-mri-images-for-brain-tumor-detection/yes/Y251.JPG\n",
            "/content/brain-mri-images-for-brain-tumor-detection/yes/Y49.JPG\n",
            "/content/brain-mri-images-for-brain-tumor-detection/yes/Y4.jpg\n",
            "/content/brain-mri-images-for-brain-tumor-detection/yes/Y61.jpg\n",
            "/content/brain-mri-images-for-brain-tumor-detection/yes/Y253.JPG\n",
            "/content/brain-mri-images-for-brain-tumor-detection/yes/Y120.JPG\n",
            "/content/brain-mri-images-for-brain-tumor-detection/yes/Y24.jpg\n",
            "/content/brain-mri-images-for-brain-tumor-detection/yes/Y62.jpg\n",
            "/content/brain-mri-images-for-brain-tumor-detection/yes/Y18.JPG\n",
            "/content/brain-mri-images-for-brain-tumor-detection/yes/Y114.JPG\n",
            "/content/brain-mri-images-for-brain-tumor-detection/yes/Y187.jpg\n",
            "/content/brain-mri-images-for-brain-tumor-detection/yes/Y17.jpg\n",
            "/content/brain-mri-images-for-brain-tumor-detection/yes/Y45.JPG\n",
            "/content/brain-mri-images-for-brain-tumor-detection/yes/Y161.JPG\n",
            "/content/brain-mri-images-for-brain-tumor-detection/yes/Y185.jpg\n",
            "/content/brain-mri-images-for-brain-tumor-detection/yes/Y165.JPG\n",
            "/content/brain-mri-images-for-brain-tumor-detection/yes/Y7.jpg\n",
            "/content/brain-mri-images-for-brain-tumor-detection/yes/Y95.jpg\n",
            "/content/brain-mri-images-for-brain-tumor-detection/yes/Y194.jpg\n",
            "/content/brain-mri-images-for-brain-tumor-detection/yes/Y19.JPG\n",
            "/content/brain-mri-images-for-brain-tumor-detection/yes/Y77.jpg\n",
            "/content/brain-mri-images-for-brain-tumor-detection/yes/Y10.jpg\n",
            "/content/brain-mri-images-for-brain-tumor-detection/yes/Y105.jpg\n",
            "/content/brain-mri-images-for-brain-tumor-detection/yes/Y245.jpg\n",
            "/content/brain-mri-images-for-brain-tumor-detection/yes/Y193.JPG\n",
            "/content/brain-mri-images-for-brain-tumor-detection/yes/Y70.jpg\n",
            "/content/brain-mri-images-for-brain-tumor-detection/yes/Y244.JPG\n",
            "/content/brain-mri-images-for-brain-tumor-detection/yes/Y46.jpg\n",
            "/content/brain-mri-images-for-brain-tumor-detection/yes/Y76.jpg\n",
            "/content/brain-mri-images-for-brain-tumor-detection/yes/Y100.JPG\n",
            "/content/brain-mri-images-for-brain-tumor-detection/yes/Y65.JPG\n",
            "/content/brain-mri-images-for-brain-tumor-detection/yes/Y31.jpg\n",
            "/content/brain-mri-images-for-brain-tumor-detection/yes/Y164.JPG\n",
            "/content/brain-mri-images-for-brain-tumor-detection/yes/Y111.JPG\n",
            "/content/brain-mri-images-for-brain-tumor-detection/yes/Y75.JPG\n",
            "/content/brain-mri-images-for-brain-tumor-detection/yes/Y36.JPG\n",
            "/content/brain-mri-images-for-brain-tumor-detection/yes/Y106.jpg\n",
            "/content/brain-mri-images-for-brain-tumor-detection/yes/Y22.jpg\n",
            "/content/brain-mri-images-for-brain-tumor-detection/yes/Y163.JPG\n",
            "/content/brain-mri-images-for-brain-tumor-detection/yes/Y103.jpg\n",
            "/content/brain-mri-images-for-brain-tumor-detection/yes/Y66.JPG\n",
            "/content/brain-mri-images-for-brain-tumor-detection/yes/Y98.JPG\n",
            "/content/brain-mri-images-for-brain-tumor-detection/yes/Y59.JPG\n",
            "/content/brain-mri-images-for-brain-tumor-detection/yes/Y33.jpg\n",
            "/content/brain-mri-images-for-brain-tumor-detection/yes/Y257.jpg\n",
            "/content/brain-mri-images-for-brain-tumor-detection/yes/Y186.jpg\n",
            "/content/brain-mri-images-for-brain-tumor-detection/yes/Y3.jpg\n",
            "/content/brain-mri-images-for-brain-tumor-detection/yes/Y73.jpg\n",
            "/content/brain-mri-images-for-brain-tumor-detection/yes/Y82.jpg\n",
            "/content/brain-mri-images-for-brain-tumor-detection/yes/Y78.jpg\n",
            "/content/brain-mri-images-for-brain-tumor-detection/yes/Y246.JPG\n",
            "/content/brain-mri-images-for-brain-tumor-detection/yes/Y259.JPG\n",
            "/content/brain-mri-images-for-brain-tumor-detection/yes/Y101.jpg\n",
            "/content/brain-mri-images-for-brain-tumor-detection/yes/Y181.jpg\n",
            "/content/brain-mri-images-for-brain-tumor-detection/yes/Y27.jpg\n",
            "/content/brain-mri-images-for-brain-tumor-detection/yes/Y92.png\n",
            "/content/brain-mri-images-for-brain-tumor-detection/yes/Y180.jpg\n",
            "/content/brain-mri-images-for-brain-tumor-detection/yes/Y34.jpg\n",
            "/content/brain-mri-images-for-brain-tumor-detection/yes/Y116.JPG\n",
            "/content/brain-mri-images-for-brain-tumor-detection/yes/Y159.JPG\n",
            "/content/brain-mri-images-for-brain-tumor-detection/yes/Y9.jpg\n",
            "/content/brain-mri-images-for-brain-tumor-detection/yes/Y38.jpg\n",
            "/content/brain-mri-images-for-brain-tumor-detection/yes/Y256.JPG\n",
            "/content/brain-mri-images-for-brain-tumor-detection/yes/Y156.JPG\n",
            "/content/brain-mri-images-for-brain-tumor-detection/yes/Y158.JPG\n",
            "/content/brain-mri-images-for-brain-tumor-detection/yes/Y167.JPG\n",
            "/content/brain-mri-images-for-brain-tumor-detection/yes/Y69.jpg\n",
            "/content/brain-mri-images-for-brain-tumor-detection/yes/Y108.jpg\n",
            "/content/brain-mri-images-for-brain-tumor-detection/yes/Y102.jpg\n",
            "/content/brain-mri-images-for-brain-tumor-detection/yes/Y96.jpg\n",
            "/content/brain-mri-images-for-brain-tumor-detection/yes/Y97.JPG\n",
            "/content/brain-mri-images-for-brain-tumor-detection/yes/Y109.JPG\n",
            "/content/brain-mri-images-for-brain-tumor-detection/yes/Y42.jpg\n",
            "/content/brain-mri-images-for-brain-tumor-detection/yes/Y160.JPG\n",
            "/content/brain-mri-images-for-brain-tumor-detection/yes/Y182.JPG\n",
            "/content/brain-mri-images-for-brain-tumor-detection/yes/Y29.jpg\n",
            "/content/brain-mri-images-for-brain-tumor-detection/yes/Y169.jpg\n",
            "/content/brain-mri-images-for-brain-tumor-detection/yes/Y37.jpg\n",
            "/content/brain-mri-images-for-brain-tumor-detection/yes/Y50.JPG\n",
            "/content/brain-mri-images-for-brain-tumor-detection/yes/Y58.JPG\n",
            "/content/brain-mri-images-for-brain-tumor-detection/yes/Y154.jpg\n",
            "/content/brain-mri-images-for-brain-tumor-detection/yes/Y51.jpg\n",
            "/content/brain-mri-images-for-brain-tumor-detection/yes/Y74.jpg\n",
            "/content/brain-mri-images-for-brain-tumor-detection/yes/Y195.JPG\n",
            "/content/brain-mri-images-for-brain-tumor-detection/yes/Y15.jpg\n",
            "/content/brain-mri-images-for-brain-tumor-detection/yes/Y166.JPG\n",
            "/content/brain-mri-images-for-brain-tumor-detection/yes/Y99.JPG\n",
            "/content/brain-mri-images-for-brain-tumor-detection/yes/Y258.JPG\n",
            "/content/brain-mri-images-for-brain-tumor-detection/yes/Y54.jpg\n",
            "/content/brain-mri-images-for-brain-tumor-detection/yes/Y248.JPG\n",
            "/content/brain-mri-images-for-brain-tumor-detection/yes/Y252.jpg\n",
            "/content/brain-mri-images-for-brain-tumor-detection/yes/Y113.JPG\n",
            "/content/brain-mri-images-for-brain-tumor-detection/yes/Y254.jpg\n",
            "/content/brain-mri-images-for-brain-tumor-detection/yes/Y162.jpg\n",
            "/content/brain-mri-images-for-brain-tumor-detection/yes/Y85.JPG\n",
            "/content/brain-mri-images-for-brain-tumor-detection/yes/Y23.JPG\n",
            "/content/brain-mri-images-for-brain-tumor-detection/yes/Y104.jpg\n",
            "/content/brain-mri-images-for-brain-tumor-detection/yes/Y243.JPG\n",
            "/content/brain-mri-images-for-brain-tumor-detection/yes/Y47.JPG\n",
            "/content/brain-mri-images-for-brain-tumor-detection/yes/Y89.JPG\n",
            "/content/brain-mri-images-for-brain-tumor-detection/yes/Y35.jpg\n",
            "/content/brain-mri-images-for-brain-tumor-detection/yes/Y79.jpg\n",
            "/content/brain-mri-images-for-brain-tumor-detection/yes/Y26.jpg\n",
            "/content/brain-mri-images-for-brain-tumor-detection/yes/Y16.JPG\n",
            "/content/brain-mri-images-for-brain-tumor-detection/yes/Y90.jpg\n",
            "/content/brain-mri-images-for-brain-tumor-detection/yes/Y170.JPG\n",
            "/content/brain-mri-images-for-brain-tumor-detection/yes/Y242.JPG\n",
            "/content/brain-mri-images-for-brain-tumor-detection/yes/Y30.jpg\n",
            "/content/brain-mri-images-for-brain-tumor-detection/yes/Y188.jpg\n",
            "/content/brain-mri-images-for-brain-tumor-detection/yes/Y21.jpg\n",
            "/content/brain-mri-images-for-brain-tumor-detection/yes/Y81.jpg\n",
            "/content/brain-mri-images-for-brain-tumor-detection/yes/Y255.JPG\n",
            "/content/brain-mri-images-for-brain-tumor-detection/yes/Y56.jpg\n",
            "/content/brain-mri-images-for-brain-tumor-detection/yes/Y183.jpg\n",
            "/content/brain-mri-images-for-brain-tumor-detection/yes/Y6.jpg\n",
            "/content/brain-mri-images-for-brain-tumor-detection/yes/Y25.jpg\n",
            "/content/brain-mri-images-for-brain-tumor-detection/yes/Y60.jpg\n",
            "/content/brain-mri-images-for-brain-tumor-detection/yes/Y155.JPG\n",
            "/content/brain-mri-images-for-brain-tumor-detection/yes/Y53.jpg\n",
            "/content/brain-mri-images-for-brain-tumor-detection/yes/Y1.jpg\n",
            "/content/brain-mri-images-for-brain-tumor-detection/yes/Y32.jpg\n",
            "/content/brain-mri-images-for-brain-tumor-detection/yes/Y247.JPG\n",
            "/content/brain-mri-images-for-brain-tumor-detection/no/no 91.jpeg\n",
            "/content/brain-mri-images-for-brain-tumor-detection/no/No15.jpg\n",
            "/content/brain-mri-images-for-brain-tumor-detection/no/25 no.jpg\n",
            "/content/brain-mri-images-for-brain-tumor-detection/no/8 no.jpg\n",
            "/content/brain-mri-images-for-brain-tumor-detection/no/no 2.jpg\n",
            "/content/brain-mri-images-for-brain-tumor-detection/no/N2.JPG\n",
            "/content/brain-mri-images-for-brain-tumor-detection/no/5 no.jpg\n",
            "/content/brain-mri-images-for-brain-tumor-detection/no/17 no.jpg\n",
            "/content/brain-mri-images-for-brain-tumor-detection/no/N20.JPG\n",
            "/content/brain-mri-images-for-brain-tumor-detection/no/no 90.jpg\n",
            "/content/brain-mri-images-for-brain-tumor-detection/no/33 no.jpg\n",
            "/content/brain-mri-images-for-brain-tumor-detection/no/No22.jpg\n",
            "/content/brain-mri-images-for-brain-tumor-detection/no/10 no.jpg\n",
            "/content/brain-mri-images-for-brain-tumor-detection/no/34 no.jpg\n",
            "/content/brain-mri-images-for-brain-tumor-detection/no/N16.jpg\n",
            "/content/brain-mri-images-for-brain-tumor-detection/no/no 1.jpg\n",
            "/content/brain-mri-images-for-brain-tumor-detection/no/N1.JPG\n",
            "/content/brain-mri-images-for-brain-tumor-detection/no/20 no.jpg\n",
            "/content/brain-mri-images-for-brain-tumor-detection/no/no 3.jpg\n",
            "/content/brain-mri-images-for-brain-tumor-detection/no/45 no.jpg\n",
            "/content/brain-mri-images-for-brain-tumor-detection/no/No17.jpg\n",
            "/content/brain-mri-images-for-brain-tumor-detection/no/49 no.jpg\n",
            "/content/brain-mri-images-for-brain-tumor-detection/no/6 no.jpg\n",
            "/content/brain-mri-images-for-brain-tumor-detection/no/4 no.jpg\n",
            "/content/brain-mri-images-for-brain-tumor-detection/no/47 no.jpg\n",
            "/content/brain-mri-images-for-brain-tumor-detection/no/N6.jpg\n",
            "/content/brain-mri-images-for-brain-tumor-detection/no/2 no.jpeg\n",
            "/content/brain-mri-images-for-brain-tumor-detection/no/no 94.jpg\n",
            "/content/brain-mri-images-for-brain-tumor-detection/no/44no.jpg\n",
            "/content/brain-mri-images-for-brain-tumor-detection/no/N11.jpg\n",
            "/content/brain-mri-images-for-brain-tumor-detection/no/no 923.jpg\n",
            "/content/brain-mri-images-for-brain-tumor-detection/no/no 96.jpg\n",
            "/content/brain-mri-images-for-brain-tumor-detection/no/No16.jpg\n",
            "/content/brain-mri-images-for-brain-tumor-detection/no/No20.jpg\n",
            "/content/brain-mri-images-for-brain-tumor-detection/no/39 no.jpg\n",
            "/content/brain-mri-images-for-brain-tumor-detection/no/no 5.jpeg\n",
            "/content/brain-mri-images-for-brain-tumor-detection/no/N17.jpg\n",
            "/content/brain-mri-images-for-brain-tumor-detection/no/24 no.jpg\n",
            "/content/brain-mri-images-for-brain-tumor-detection/no/1 no.jpeg\n",
            "/content/brain-mri-images-for-brain-tumor-detection/no/N22.JPG\n",
            "/content/brain-mri-images-for-brain-tumor-detection/no/7 no.jpg\n",
            "/content/brain-mri-images-for-brain-tumor-detection/no/no 10.jpg\n",
            "/content/brain-mri-images-for-brain-tumor-detection/no/No18.jpg\n",
            "/content/brain-mri-images-for-brain-tumor-detection/no/12 no.jpg\n",
            "/content/brain-mri-images-for-brain-tumor-detection/no/50 no.jpg\n",
            "/content/brain-mri-images-for-brain-tumor-detection/no/21 no.jpg\n",
            "/content/brain-mri-images-for-brain-tumor-detection/no/N15.jpg\n",
            "/content/brain-mri-images-for-brain-tumor-detection/no/no 95.jpg\n",
            "/content/brain-mri-images-for-brain-tumor-detection/no/No21.jpg\n",
            "/content/brain-mri-images-for-brain-tumor-detection/no/No13.jpg\n",
            "/content/brain-mri-images-for-brain-tumor-detection/no/N21.jpg\n",
            "/content/brain-mri-images-for-brain-tumor-detection/no/15 no.jpg\n",
            "/content/brain-mri-images-for-brain-tumor-detection/no/9 no.jpg\n",
            "/content/brain-mri-images-for-brain-tumor-detection/no/no 7.jpeg\n",
            "/content/brain-mri-images-for-brain-tumor-detection/no/46 no.jpg\n",
            "/content/brain-mri-images-for-brain-tumor-detection/no/no 8.jpg\n",
            "/content/brain-mri-images-for-brain-tumor-detection/no/no 100.jpg\n",
            "/content/brain-mri-images-for-brain-tumor-detection/no/N26.JPG\n",
            "/content/brain-mri-images-for-brain-tumor-detection/no/no 99.jpg\n",
            "/content/brain-mri-images-for-brain-tumor-detection/no/31 no.jpg\n",
            "/content/brain-mri-images-for-brain-tumor-detection/no/no 98.jpg\n",
            "/content/brain-mri-images-for-brain-tumor-detection/no/no 9.png\n",
            "/content/brain-mri-images-for-brain-tumor-detection/no/no 92.jpg\n",
            "/content/brain-mri-images-for-brain-tumor-detection/no/14 no.jpg\n",
            "/content/brain-mri-images-for-brain-tumor-detection/no/no 97.jpg\n",
            "/content/brain-mri-images-for-brain-tumor-detection/no/27 no.jpg\n",
            "/content/brain-mri-images-for-brain-tumor-detection/no/23 no.jpg\n",
            "/content/brain-mri-images-for-brain-tumor-detection/no/18 no.jpg\n",
            "/content/brain-mri-images-for-brain-tumor-detection/no/N3.jpg\n",
            "/content/brain-mri-images-for-brain-tumor-detection/no/no 6.jpg\n",
            "/content/brain-mri-images-for-brain-tumor-detection/no/29 no.jpg\n",
            "/content/brain-mri-images-for-brain-tumor-detection/no/N5.jpg\n",
            "/content/brain-mri-images-for-brain-tumor-detection/no/no.jpg\n",
            "/content/brain-mri-images-for-brain-tumor-detection/no/no 89.jpg\n",
            "/content/brain-mri-images-for-brain-tumor-detection/no/22 no.jpg\n",
            "/content/brain-mri-images-for-brain-tumor-detection/no/36 no.jpg\n",
            "/content/brain-mri-images-for-brain-tumor-detection/no/42 no.jpg\n",
            "/content/brain-mri-images-for-brain-tumor-detection/no/40 no.jpg\n",
            "/content/brain-mri-images-for-brain-tumor-detection/no/no 4.jpg\n",
            "/content/brain-mri-images-for-brain-tumor-detection/no/11 no.jpg\n",
            "/content/brain-mri-images-for-brain-tumor-detection/no/32 no.jpg\n",
            "/content/brain-mri-images-for-brain-tumor-detection/no/30 no.jpg\n",
            "/content/brain-mri-images-for-brain-tumor-detection/no/48 no.jpeg\n",
            "/content/brain-mri-images-for-brain-tumor-detection/no/28 no.jpg\n",
            "/content/brain-mri-images-for-brain-tumor-detection/no/37 no.jpg\n",
            "/content/brain-mri-images-for-brain-tumor-detection/no/43 no.jpg\n",
            "/content/brain-mri-images-for-brain-tumor-detection/no/35 no.jpg\n",
            "/content/brain-mri-images-for-brain-tumor-detection/no/3 no.jpg\n",
            "/content/brain-mri-images-for-brain-tumor-detection/no/26 no.jpg\n",
            "/content/brain-mri-images-for-brain-tumor-detection/no/N19.JPG\n",
            "/content/brain-mri-images-for-brain-tumor-detection/no/41 no.jpg\n",
            "/content/brain-mri-images-for-brain-tumor-detection/no/No11.jpg\n",
            "/content/brain-mri-images-for-brain-tumor-detection/no/No12.jpg\n",
            "/content/brain-mri-images-for-brain-tumor-detection/no/13 no.jpg\n",
            "/content/brain-mri-images-for-brain-tumor-detection/no/19 no.jpg\n",
            "/content/brain-mri-images-for-brain-tumor-detection/no/38 no.jpg\n",
            "/content/brain-mri-images-for-brain-tumor-detection/no/No19.jpg\n",
            "/content/brain-mri-images-for-brain-tumor-detection/no/No14.jpg\n"
          ],
          "name": "stdout"
        }
      ]
    },
    {
      "cell_type": "code",
      "metadata": {
        "execution": {
          "iopub.execute_input": "2021-04-07T20:03:46.450144Z",
          "iopub.status.busy": "2021-04-07T20:03:46.449374Z",
          "iopub.status.idle": "2021-04-07T20:03:53.780526Z",
          "shell.execute_reply": "2021-04-07T20:03:53.779823Z"
        },
        "papermill": {
          "duration": 7.350606,
          "end_time": "2021-04-07T20:03:53.780676",
          "exception": false,
          "start_time": "2021-04-07T20:03:46.430070",
          "status": "completed"
        },
        "tags": [],
        "id": "compliant-milton"
      },
      "source": [
        "import os\n",
        "import keras \n",
        "from keras.models import Sequential\n",
        "from keras.layers import Conv2D, MaxPooling2D, Flatten, Dense, Dropout, BatchNormalization\n",
        "from PIL import Image\n",
        "import numpy as np\n",
        "import pandas as pd\n",
        "import matplotlib.pyplot as plt\n",
        "plt.style.use('dark_background')\n",
        "from sklearn.model_selection import train_test_split\n",
        "from sklearn.preprocessing import OneHotEncoder "
      ],
      "id": "compliant-milton",
      "execution_count": 2,
      "outputs": []
    },
    {
      "cell_type": "code",
      "metadata": {
        "execution": {
          "iopub.execute_input": "2021-04-07T20:03:53.816546Z",
          "iopub.status.busy": "2021-04-07T20:03:53.815866Z",
          "iopub.status.idle": "2021-04-07T20:03:53.822682Z",
          "shell.execute_reply": "2021-04-07T20:03:53.823287Z"
        },
        "papermill": {
          "duration": 0.029245,
          "end_time": "2021-04-07T20:03:53.823472",
          "exception": false,
          "start_time": "2021-04-07T20:03:53.794227",
          "status": "completed"
        },
        "tags": [],
        "colab": {
          "base_uri": "https://localhost:8080/"
        },
        "id": "historical-census",
        "outputId": "47465f8b-dfad-4d07-82cd-b7176f83fc7d"
      },
      "source": [
        "encoder = OneHotEncoder()\n",
        "encoder.fit([[0], [1]]) \n",
        "\n",
        "# 0 - Tumor\n",
        "# 1 - Normal"
      ],
      "id": "historical-census",
      "execution_count": 3,
      "outputs": [
        {
          "output_type": "execute_result",
          "data": {
            "text/plain": [
              "OneHotEncoder(categories='auto', drop=None, dtype=<class 'numpy.float64'>,\n",
              "              handle_unknown='error', sparse=True)"
            ]
          },
          "metadata": {
            "tags": []
          },
          "execution_count": 3
        }
      ]
    },
    {
      "cell_type": "code",
      "metadata": {
        "execution": {
          "iopub.execute_input": "2021-04-07T20:03:53.859470Z",
          "iopub.status.busy": "2021-04-07T20:03:53.858647Z",
          "iopub.status.idle": "2021-04-07T20:03:55.105354Z",
          "shell.execute_reply": "2021-04-07T20:03:55.104686Z"
        },
        "papermill": {
          "duration": 1.268094,
          "end_time": "2021-04-07T20:03:55.105514",
          "exception": false,
          "start_time": "2021-04-07T20:03:53.837420",
          "status": "completed"
        },
        "tags": [],
        "colab": {
          "base_uri": "https://localhost:8080/"
        },
        "id": "tutorial-utilization",
        "outputId": "2bd408c8-3608-4922-88e7-07e23a9e7dde"
      },
      "source": [
        "data = []\n",
        "paths = []\n",
        "result = []\n",
        "\n",
        "for r, d, f in os.walk(r'/content/brain-mri-images-for-brain-tumor-detection/yes'):\n",
        "    for file in f:\n",
        "        if '.jpg' in file:\n",
        "            paths.append(os.path.join(r, file))\n",
        "\n",
        "for path in paths:\n",
        "    img = Image.open(path)\n",
        "    img = img.resize((128, 128))\n",
        "    img = np.array(img)\n",
        "    if(img.shape == (128, 128, 3)):\n",
        "        data.append(np.array(img))\n",
        "        result.append(encoder.transform([[0]]).toarray())\n",
        "result[0]        "
      ],
      "id": "tutorial-utilization",
      "execution_count": 4,
      "outputs": [
        {
          "output_type": "execute_result",
          "data": {
            "text/plain": [
              "array([[1., 0.]])"
            ]
          },
          "metadata": {
            "tags": []
          },
          "execution_count": 4
        }
      ]
    },
    {
      "cell_type": "code",
      "metadata": {
        "execution": {
          "iopub.execute_input": "2021-04-07T20:03:55.141819Z",
          "iopub.status.busy": "2021-04-07T20:03:55.141109Z",
          "iopub.status.idle": "2021-04-07T20:03:56.030436Z",
          "shell.execute_reply": "2021-04-07T20:03:56.029624Z"
        },
        "papermill": {
          "duration": 0.91072,
          "end_time": "2021-04-07T20:03:56.030613",
          "exception": false,
          "start_time": "2021-04-07T20:03:55.119893",
          "status": "completed"
        },
        "tags": [],
        "id": "arbitrary-cinema"
      },
      "source": [
        "paths = []\n",
        "for r, d, f in os.walk(r\"/content/brain-mri-images-for-brain-tumor-detection/no\"):\n",
        "    for file in f:\n",
        "        if '.jpg' in file:\n",
        "            paths.append(os.path.join(r, file))\n",
        "\n",
        "for path in paths:\n",
        "    img = Image.open(path)\n",
        "    img = img.resize((128,128))\n",
        "    img = np.array(img)\n",
        "    if(img.shape == (128,128,3)):\n",
        "        data.append(np.array(img))\n",
        "        result.append(encoder.transform([[1]]).toarray())"
      ],
      "id": "arbitrary-cinema",
      "execution_count": 5,
      "outputs": []
    },
    {
      "cell_type": "code",
      "metadata": {
        "execution": {
          "iopub.execute_input": "2021-04-07T20:03:56.065427Z",
          "iopub.status.busy": "2021-04-07T20:03:56.064782Z",
          "iopub.status.idle": "2021-04-07T20:03:56.072767Z",
          "shell.execute_reply": "2021-04-07T20:03:56.072258Z"
        },
        "papermill": {
          "duration": 0.026493,
          "end_time": "2021-04-07T20:03:56.072905",
          "exception": false,
          "start_time": "2021-04-07T20:03:56.046412",
          "status": "completed"
        },
        "tags": [],
        "colab": {
          "base_uri": "https://localhost:8080/"
        },
        "id": "capable-chancellor",
        "outputId": "43d98c23-ca2d-426d-d915-6454042e2534"
      },
      "source": [
        "data = np.array(data)\n",
        "data.shape"
      ],
      "id": "capable-chancellor",
      "execution_count": 6,
      "outputs": [
        {
          "output_type": "execute_result",
          "data": {
            "text/plain": [
              "(139, 128, 128, 3)"
            ]
          },
          "metadata": {
            "tags": []
          },
          "execution_count": 6
        }
      ]
    },
    {
      "cell_type": "code",
      "metadata": {
        "execution": {
          "iopub.execute_input": "2021-04-07T20:03:56.106028Z",
          "iopub.status.busy": "2021-04-07T20:03:56.105399Z",
          "iopub.status.idle": "2021-04-07T20:03:56.111629Z",
          "shell.execute_reply": "2021-04-07T20:03:56.112148Z"
        },
        "papermill": {
          "duration": 0.02441,
          "end_time": "2021-04-07T20:03:56.112306",
          "exception": false,
          "start_time": "2021-04-07T20:03:56.087896",
          "status": "completed"
        },
        "tags": [],
        "colab": {
          "base_uri": "https://localhost:8080/"
        },
        "id": "forty-fraud",
        "outputId": "8c153a47-5231-49ff-f233-752a5ea5de71"
      },
      "source": [
        "result = np.array(result)\n",
        "result = result.reshape(139,2)\n",
        "result.shape"
      ],
      "id": "forty-fraud",
      "execution_count": 7,
      "outputs": [
        {
          "output_type": "execute_result",
          "data": {
            "text/plain": [
              "(139, 2)"
            ]
          },
          "metadata": {
            "tags": []
          },
          "execution_count": 7
        }
      ]
    },
    {
      "cell_type": "code",
      "metadata": {
        "execution": {
          "iopub.execute_input": "2021-04-07T20:03:56.145897Z",
          "iopub.status.busy": "2021-04-07T20:03:56.145269Z",
          "iopub.status.idle": "2021-04-07T20:03:56.154378Z",
          "shell.execute_reply": "2021-04-07T20:03:56.154919Z"
        },
        "papermill": {
          "duration": 0.027524,
          "end_time": "2021-04-07T20:03:56.155089",
          "exception": false,
          "start_time": "2021-04-07T20:03:56.127565",
          "status": "completed"
        },
        "tags": [],
        "id": "analyzed-hardware"
      },
      "source": [
        "x_train, x_test, y_train, y_test = train_test_split(data, result, test_size=0.2, shuffle=True, random_state=0)"
      ],
      "id": "analyzed-hardware",
      "execution_count": 8,
      "outputs": []
    },
    {
      "cell_type": "code",
      "metadata": {
        "execution": {
          "iopub.execute_input": "2021-04-07T20:03:56.190816Z",
          "iopub.status.busy": "2021-04-07T20:03:56.190168Z",
          "iopub.status.idle": "2021-04-07T20:03:56.653654Z",
          "shell.execute_reply": "2021-04-07T20:03:56.654407Z"
        },
        "papermill": {
          "duration": 0.482897,
          "end_time": "2021-04-07T20:03:56.654689",
          "exception": false,
          "start_time": "2021-04-07T20:03:56.171792",
          "status": "completed"
        },
        "tags": [],
        "colab": {
          "base_uri": "https://localhost:8080/"
        },
        "id": "unauthorized-program",
        "outputId": "f3d03e9d-13c1-4fe3-f153-c0fc7ee8d5f2"
      },
      "source": [
        "model = Sequential()\n",
        "\n",
        "model.add(Conv2D(32, kernel_size=(2, 2), input_shape=(128, 128, 3), padding = 'Same'))\n",
        "model.add(Conv2D(32, kernel_size=(2, 2),  activation ='relu', padding = 'Same'))\n",
        "\n",
        "\n",
        "model.add(BatchNormalization())\n",
        "model.add(MaxPooling2D(pool_size=(2, 2)))\n",
        "model.add(Dropout(0.25))\n",
        "\n",
        "model.add(Conv2D(64, kernel_size = (2,2), activation ='relu', padding = 'Same'))\n",
        "model.add(Conv2D(64, kernel_size = (2,2), activation ='relu', padding = 'Same'))\n",
        "\n",
        "model.add(BatchNormalization())\n",
        "model.add(MaxPooling2D(pool_size=(2,2), strides=(2,2)))\n",
        "model.add(Dropout(0.25))\n",
        "\n",
        "model.add(Flatten())\n",
        "\n",
        "model.add(Dense(512, activation='relu'))\n",
        "model.add(Dropout(0.5))\n",
        "model.add(Dense(2, activation='softmax'))\n",
        "\n",
        "model.compile(loss = \"categorical_crossentropy\", optimizer='Adamax')\n",
        "print(model.summary())"
      ],
      "id": "unauthorized-program",
      "execution_count": 9,
      "outputs": [
        {
          "output_type": "stream",
          "text": [
            "Model: \"sequential\"\n",
            "_________________________________________________________________\n",
            "Layer (type)                 Output Shape              Param #   \n",
            "=================================================================\n",
            "conv2d (Conv2D)              (None, 128, 128, 32)      416       \n",
            "_________________________________________________________________\n",
            "conv2d_1 (Conv2D)            (None, 128, 128, 32)      4128      \n",
            "_________________________________________________________________\n",
            "batch_normalization (BatchNo (None, 128, 128, 32)      128       \n",
            "_________________________________________________________________\n",
            "max_pooling2d (MaxPooling2D) (None, 64, 64, 32)        0         \n",
            "_________________________________________________________________\n",
            "dropout (Dropout)            (None, 64, 64, 32)        0         \n",
            "_________________________________________________________________\n",
            "conv2d_2 (Conv2D)            (None, 64, 64, 64)        8256      \n",
            "_________________________________________________________________\n",
            "conv2d_3 (Conv2D)            (None, 64, 64, 64)        16448     \n",
            "_________________________________________________________________\n",
            "batch_normalization_1 (Batch (None, 64, 64, 64)        256       \n",
            "_________________________________________________________________\n",
            "max_pooling2d_1 (MaxPooling2 (None, 32, 32, 64)        0         \n",
            "_________________________________________________________________\n",
            "dropout_1 (Dropout)          (None, 32, 32, 64)        0         \n",
            "_________________________________________________________________\n",
            "flatten (Flatten)            (None, 65536)             0         \n",
            "_________________________________________________________________\n",
            "dense (Dense)                (None, 512)               33554944  \n",
            "_________________________________________________________________\n",
            "dropout_2 (Dropout)          (None, 512)               0         \n",
            "_________________________________________________________________\n",
            "dense_1 (Dense)              (None, 2)                 1026      \n",
            "=================================================================\n",
            "Total params: 33,585,602\n",
            "Trainable params: 33,585,410\n",
            "Non-trainable params: 192\n",
            "_________________________________________________________________\n",
            "None\n"
          ],
          "name": "stdout"
        }
      ]
    },
    {
      "cell_type": "code",
      "metadata": {
        "execution": {
          "iopub.execute_input": "2021-04-07T20:03:56.693953Z",
          "iopub.status.busy": "2021-04-07T20:03:56.692881Z",
          "iopub.status.idle": "2021-04-07T20:03:56.696764Z",
          "shell.execute_reply": "2021-04-07T20:03:56.697244Z"
        },
        "papermill": {
          "duration": 0.025701,
          "end_time": "2021-04-07T20:03:56.697408",
          "exception": false,
          "start_time": "2021-04-07T20:03:56.671707",
          "status": "completed"
        },
        "tags": [],
        "colab": {
          "base_uri": "https://localhost:8080/"
        },
        "id": "floral-circle",
        "outputId": "ad4b900e-9bfd-4692-a6f4-36c1d04383f6"
      },
      "source": [
        "x_train.shape"
      ],
      "id": "floral-circle",
      "execution_count": 10,
      "outputs": [
        {
          "output_type": "execute_result",
          "data": {
            "text/plain": [
              "(111, 128, 128, 3)"
            ]
          },
          "metadata": {
            "tags": []
          },
          "execution_count": 10
        }
      ]
    },
    {
      "cell_type": "code",
      "metadata": {
        "execution": {
          "iopub.execute_input": "2021-04-07T20:03:56.736834Z",
          "iopub.status.busy": "2021-04-07T20:03:56.735774Z",
          "iopub.status.idle": "2021-04-07T20:03:56.739370Z",
          "shell.execute_reply": "2021-04-07T20:03:56.739960Z"
        },
        "papermill": {
          "duration": 0.025728,
          "end_time": "2021-04-07T20:03:56.740131",
          "exception": false,
          "start_time": "2021-04-07T20:03:56.714403",
          "status": "completed"
        },
        "tags": [],
        "colab": {
          "base_uri": "https://localhost:8080/"
        },
        "id": "swedish-watch",
        "outputId": "e291fd3b-34dd-4099-c415-66626d05f5ec"
      },
      "source": [
        "y_train.shape"
      ],
      "id": "swedish-watch",
      "execution_count": 11,
      "outputs": [
        {
          "output_type": "execute_result",
          "data": {
            "text/plain": [
              "(111, 2)"
            ]
          },
          "metadata": {
            "tags": []
          },
          "execution_count": 11
        }
      ]
    },
    {
      "cell_type": "code",
      "metadata": {
        "execution": {
          "iopub.execute_input": "2021-04-07T20:03:56.780242Z",
          "iopub.status.busy": "2021-04-07T20:03:56.779581Z",
          "iopub.status.idle": "2021-04-07T20:06:39.142530Z",
          "shell.execute_reply": "2021-04-07T20:06:39.141736Z"
        },
        "papermill": {
          "duration": 162.385378,
          "end_time": "2021-04-07T20:06:39.142713",
          "exception": false,
          "start_time": "2021-04-07T20:03:56.757335",
          "status": "completed"
        },
        "tags": [],
        "colab": {
          "base_uri": "https://localhost:8080/"
        },
        "id": "soviet-teaching",
        "outputId": "31653731-1f4d-428b-fa77-8a5c56c70fd7"
      },
      "source": [
        "history = model.fit(x_train, y_train,\n",
        "                   epochs = 40,\n",
        "                   batch_size = 128,\n",
        "                   verbose = 1,\n",
        "                   validation_data = (x_test, y_test))"
      ],
      "id": "soviet-teaching",
      "execution_count": 12,
      "outputs": [
        {
          "output_type": "stream",
          "text": [
            "Epoch 1/40\n",
            "1/1 [==============================] - 8s 8s/step - loss: 2.7492 - val_loss: 190.7144\n",
            "Epoch 2/40\n",
            "1/1 [==============================] - 6s 6s/step - loss: 74.8215 - val_loss: 31.9185\n",
            "Epoch 3/40\n",
            "1/1 [==============================] - 6s 6s/step - loss: 36.0593 - val_loss: 77.4520\n",
            "Epoch 4/40\n",
            "1/1 [==============================] - 6s 6s/step - loss: 21.6424 - val_loss: 69.6422\n",
            "Epoch 5/40\n",
            "1/1 [==============================] - 6s 6s/step - loss: 15.2133 - val_loss: 21.7218\n",
            "Epoch 6/40\n",
            "1/1 [==============================] - 6s 6s/step - loss: 8.5163 - val_loss: 12.7837\n",
            "Epoch 7/40\n",
            "1/1 [==============================] - 6s 6s/step - loss: 1.3409 - val_loss: 49.8092\n",
            "Epoch 8/40\n",
            "1/1 [==============================] - 6s 6s/step - loss: 1.6471 - val_loss: 74.3594\n",
            "Epoch 9/40\n",
            "1/1 [==============================] - 7s 7s/step - loss: 2.1916 - val_loss: 82.9126\n",
            "Epoch 10/40\n",
            "1/1 [==============================] - 8s 8s/step - loss: 3.8626 - val_loss: 79.4527\n",
            "Epoch 11/40\n",
            "1/1 [==============================] - 7s 7s/step - loss: 2.4192 - val_loss: 70.9837\n",
            "Epoch 12/40\n",
            "1/1 [==============================] - 6s 6s/step - loss: 1.0627 - val_loss: 60.5591\n",
            "Epoch 13/40\n",
            "1/1 [==============================] - 6s 6s/step - loss: 1.4390 - val_loss: 47.9015\n",
            "Epoch 14/40\n",
            "1/1 [==============================] - 6s 6s/step - loss: 0.6827 - val_loss: 37.4813\n",
            "Epoch 15/40\n",
            "1/1 [==============================] - 6s 6s/step - loss: 0.6479 - val_loss: 29.8147\n",
            "Epoch 16/40\n",
            "1/1 [==============================] - 6s 6s/step - loss: 0.7333 - val_loss: 24.6411\n",
            "Epoch 17/40\n",
            "1/1 [==============================] - 6s 6s/step - loss: 0.5546 - val_loss: 20.9720\n",
            "Epoch 18/40\n",
            "1/1 [==============================] - 6s 6s/step - loss: 0.3183 - val_loss: 18.5501\n",
            "Epoch 19/40\n",
            "1/1 [==============================] - 6s 6s/step - loss: 0.2890 - val_loss: 17.0939\n",
            "Epoch 20/40\n",
            "1/1 [==============================] - 6s 6s/step - loss: 0.1501 - val_loss: 16.2043\n",
            "Epoch 21/40\n",
            "1/1 [==============================] - 6s 6s/step - loss: 0.4856 - val_loss: 15.6915\n",
            "Epoch 22/40\n",
            "1/1 [==============================] - 6s 6s/step - loss: 0.2157 - val_loss: 15.5089\n",
            "Epoch 23/40\n",
            "1/1 [==============================] - 6s 6s/step - loss: 0.2524 - val_loss: 15.4534\n",
            "Epoch 24/40\n",
            "1/1 [==============================] - 6s 6s/step - loss: 0.1647 - val_loss: 15.5967\n",
            "Epoch 25/40\n",
            "1/1 [==============================] - 6s 6s/step - loss: 0.1616 - val_loss: 15.4117\n",
            "Epoch 26/40\n",
            "1/1 [==============================] - 6s 6s/step - loss: 0.0933 - val_loss: 15.0784\n",
            "Epoch 27/40\n",
            "1/1 [==============================] - 6s 6s/step - loss: 0.4136 - val_loss: 14.6253\n",
            "Epoch 28/40\n",
            "1/1 [==============================] - 6s 6s/step - loss: 0.2420 - val_loss: 14.0030\n",
            "Epoch 29/40\n",
            "1/1 [==============================] - 6s 6s/step - loss: 0.0333 - val_loss: 13.4297\n",
            "Epoch 30/40\n",
            "1/1 [==============================] - 6s 6s/step - loss: 0.0434 - val_loss: 12.9531\n",
            "Epoch 31/40\n",
            "1/1 [==============================] - 6s 6s/step - loss: 0.0243 - val_loss: 12.5058\n",
            "Epoch 32/40\n",
            "1/1 [==============================] - 6s 6s/step - loss: 0.0471 - val_loss: 12.0566\n",
            "Epoch 33/40\n",
            "1/1 [==============================] - 6s 6s/step - loss: 0.0277 - val_loss: 11.6488\n",
            "Epoch 34/40\n",
            "1/1 [==============================] - 6s 6s/step - loss: 0.0977 - val_loss: 11.2590\n",
            "Epoch 35/40\n",
            "1/1 [==============================] - 6s 6s/step - loss: 0.0610 - val_loss: 10.9402\n",
            "Epoch 36/40\n",
            "1/1 [==============================] - 6s 6s/step - loss: 0.0099 - val_loss: 10.6361\n",
            "Epoch 37/40\n",
            "1/1 [==============================] - 6s 6s/step - loss: 0.0187 - val_loss: 10.3572\n",
            "Epoch 38/40\n",
            "1/1 [==============================] - 6s 6s/step - loss: 0.0130 - val_loss: 10.0916\n",
            "Epoch 39/40\n",
            "1/1 [==============================] - 6s 6s/step - loss: 0.0242 - val_loss: 9.8277\n",
            "Epoch 40/40\n",
            "1/1 [==============================] - 6s 6s/step - loss: 7.9010e-04 - val_loss: 9.5843\n"
          ],
          "name": "stdout"
        }
      ]
    },
    {
      "cell_type": "code",
      "metadata": {
        "execution": {
          "iopub.execute_input": "2021-04-07T20:06:39.253552Z",
          "iopub.status.busy": "2021-04-07T20:06:39.252763Z",
          "iopub.status.idle": "2021-04-07T20:06:39.464528Z",
          "shell.execute_reply": "2021-04-07T20:06:39.463843Z"
        },
        "papermill": {
          "duration": 0.268065,
          "end_time": "2021-04-07T20:06:39.464683",
          "exception": false,
          "start_time": "2021-04-07T20:06:39.196618",
          "status": "completed"
        },
        "tags": [],
        "colab": {
          "base_uri": "https://localhost:8080/",
          "height": 295
        },
        "id": "coastal-cooling",
        "outputId": "eb7827ba-4e4e-4a08-89a4-56e7ba08fec6"
      },
      "source": [
        "plt.plot(history.history['loss'])\n",
        "plt.plot(history.history['val_loss'])\n",
        "plt.title('Model Loss')\n",
        "\n",
        "\n",
        "\n",
        "\n",
        "plt.ylabel('Loss')\n",
        "plt.xlabel('Epoch')\n",
        "plt.legend(['Test', 'Validation'], loc='upper right')\n",
        "plt.show()"
      ],
      "id": "coastal-cooling",
      "execution_count": 15,
      "outputs": [
        {
          "output_type": "display_data",
          "data": {
            "image/png": "[encoded data removed]",
            "text/plain": [
              "<Figure size 432x288 with 1 Axes>"
            ]
          },
          "metadata": {
            "tags": []
          }
        }
      ]
    },
    {
      "cell_type": "code",
      "metadata": {
        "execution": {
          "iopub.execute_input": "2021-04-07T20:06:39.580936Z",
          "iopub.status.busy": "2021-04-07T20:06:39.580103Z",
          "iopub.status.idle": "2021-04-07T20:06:39.583323Z",
          "shell.execute_reply": "2021-04-07T20:06:39.582800Z"
        },
        "papermill": {
          "duration": 0.062949,
          "end_time": "2021-04-07T20:06:39.583475",
          "exception": false,
          "start_time": "2021-04-07T20:06:39.520526",
          "status": "completed"
        },
        "tags": [],
        "id": "chronic-booth"
      },
      "source": [
        "def names(number):\n",
        "    if number==0:\n",
        "        return 'Its a Tumor'\n",
        "    else:\n",
        "        return 'No, Its not a tumor'"
      ],
      "id": "chronic-booth",
      "execution_count": 16,
      "outputs": []
    },
    {
      "cell_type": "code",
      "metadata": {
        "execution": {
          "iopub.execute_input": "2021-04-07T20:06:39.698720Z",
          "iopub.status.busy": "2021-04-07T20:06:39.697953Z",
          "iopub.status.idle": "2021-04-07T20:06:40.162608Z",
          "shell.execute_reply": "2021-04-07T20:06:40.163413Z"
        },
        "papermill": {
          "duration": 0.526107,
          "end_time": "2021-04-07T20:06:40.163707",
          "exception": false,
          "start_time": "2021-04-07T20:06:39.637600",
          "status": "completed"
        },
        "tags": [],
        "colab": {
          "base_uri": "https://localhost:8080/",
          "height": 286
        },
        "id": "tough-commodity",
        "outputId": "f3bece51-b92f-4755-a642-a4bf4707244d"
      },
      "source": [
        "from matplotlib.pyplot import imshow\n",
        "img = Image.open(r\"/content/brain-mri-images-for-brain-tumor-detection/yes/Y1.jpg\")\n",
        "x = np.array(img.resize((128,128)))\n",
        "x = x.reshape(1,128,128,3)\n",
        "res = model.predict_on_batch(x)\n",
        "classification = np.where(res == np.amax(res))[1][0]\n",
        "imshow(img)\n",
        "print(str(res[0][classification]*100) + '% Confidence This Is ' + names(classification))"
      ],
      "id": "tough-commodity",
      "execution_count": 18,
      "outputs": [
        {
          "output_type": "stream",
          "text": [
            "100.0% Confidence This Is Its a Tumor\n"
          ],
          "name": "stdout"
        },
        {
          "output_type": "display_data",
          "data": {
            "image/png": "[encoded data removed]",
            "text/plain": [
              "<Figure size 432x288 with 1 Axes>"
            ]
          },
          "metadata": {
            "tags": []
          }
        }
      ]
    },
    {
      "cell_type": "code",
      "metadata": {
        "execution": {
          "iopub.execute_input": "2021-04-07T20:06:40.310236Z",
          "iopub.status.busy": "2021-04-07T20:06:40.309611Z",
          "iopub.status.idle": "2021-04-07T20:06:40.516153Z",
          "shell.execute_reply": "2021-04-07T20:06:40.515219Z"
        },
        "papermill": {
          "duration": 0.277744,
          "end_time": "2021-04-07T20:06:40.516308",
          "exception": false,
          "start_time": "2021-04-07T20:06:40.238564",
          "status": "completed"
        },
        "tags": [],
        "colab": {
          "base_uri": "https://localhost:8080/",
          "height": 286
        },
        "id": "french-special",
        "outputId": "5afbe8b3-463f-4b0f-9c89-11456889b002"
      },
      "source": [
        "img = Image.open(r\"/content/brain-mri-images-for-brain-tumor-detection/no/18 no.jpg\")\n",
        "x = np.array(img.resize((128,128)))\n",
        "x = x.reshape(1,128,128,3)\n",
        "res = model.predict_on_batch(x)\n",
        "classification = np.where(res == np.amax(res))[1][0]\n",
        "imshow(img)\n",
        "print(str(res[0][classification]*100) + '% Confidence This Is ' + names(classification))"
      ],
      "id": "french-special",
      "execution_count": 19,
      "outputs": [
        {
          "output_type": "stream",
          "text": [
            "100.0% Confidence This Is Its a Tumor\n"
          ],
          "name": "stdout"
        },
        {
          "output_type": "display_data",
          "data": {
            "image/png": "[encoded data removed]",
            "text/plain": [
              "<Figure size 432x288 with 1 Axes>"
            ]
          },
          "metadata": {
            "tags": []
          }
        }
      ]
    },
    {
      "cell_type": "code",
      "metadata": {
        "id": "yXSN1xIaIrIC"
      },
      "source": [
        ""
      ],
      "id": "yXSN1xIaIrIC",
      "execution_count": null,
      "outputs": []
    }
  ]
}